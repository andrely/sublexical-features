{
 "metadata": {
  "name": ""
 },
 "nbformat": 3,
 "nbformat_minor": 0,
 "worksheets": [
  {
   "cells": [
    {
     "cell_type": "code",
     "collapsed": false,
     "input": [
      "import sys\n",
      "import os\n",
      "sys.path.append(os.path.join(os.getcwd(), 'BrownClustering'))\n",
      "%load_ext autoreload\n",
      "%autoreload 2\n",
      "\n",
      "import logging\n",
      "logging.basicConfig(level=logging.INFO)"
     ],
     "language": "python",
     "metadata": {},
     "outputs": [
      {
       "output_type": "stream",
       "stream": "stdout",
       "text": [
        "Automatic pdb calling has been turned OFF\n"
       ]
      }
     ],
     "prompt_number": 1
    },
    {
     "cell_type": "code",
     "collapsed": false,
     "input": [
      "from IPython.core.display import HTML\n",
      "\n",
      "from glob import glob\n",
      "from collections import defaultdict\n",
      "\n",
      "import numpy as np\n",
      "\n",
      "import nltk\n",
      "from sklearn.feature_extraction.text import CountVectorizer, TfidfVectorizer\n",
      "from sklearn.preprocessing import LabelBinarizer, MinMaxScaler\n",
      "from sklearn.utils.multiclass import unique_labels\n",
      "from sklearn.pipeline import Pipeline\n",
      "from sklearn.cross_validation import KFold\n",
      "from sklearn.datasets import fetch_20newsgroups\n",
      "from sklearn.naive_bayes import MultinomialNB\n",
      "from sklearn.metrics import f1_score\n",
      "from sklearn.svm import LinearSVC\n",
      "from sklearn.grid_search import GridSearchCV\n",
      "\n",
      "from shared_corpora.newsgroups import article_count, newsgroups_corpus_path, parse_articles, GroupSequence, ArticleSequence\n",
      "from experiment_support.preprocessing import mahoney_clean, make_preprocessor"
     ],
     "language": "python",
     "metadata": {},
     "outputs": [],
     "prompt_number": 68
    },
    {
     "cell_type": "code",
     "collapsed": false,
     "input": [
      "corpus_path = '/Users/stinky/Work/data/20_newsgroups/'\n",
      "\n",
      "categories = ['alt.atheism', 'talk.religion.misc', 'comp.graphics', 'sci.space']\n",
      "\n",
      "train_4 = fetch_20newsgroups(data_home=corpus_path, subset='train', remove=('headers', 'footers', 'quotes'), \n",
      "                             download_if_missing=False, categories=categories)\n",
      "test_4 = fetch_20newsgroups(data_home=corpus_path, subset='test', remove=('headers', 'footers', 'quotes'),\n",
      "                            download_if_missing=False, categories=categories)\n",
      "\n",
      "train = fetch_20newsgroups(data_home=corpus_path, subset='train', remove=('headers', 'footers', 'quotes'), \n",
      "                           download_if_missing=False, categories=categories)\n",
      "test = fetch_20newsgroups(data_home=corpus_path, subset='test', remove=('headers', 'footers', 'quotes'),\n",
      "                          download_if_missing=False, categories=categories)\n",
      "\n",
      "svm_grid = {'C': [0.001, 0.003, 0.01, 0.03, 0.1, 0.3, 1, 3, 10, 30, 100]}"
     ],
     "language": "python",
     "metadata": {},
     "outputs": [],
     "prompt_number": 73
    },
    {
     "cell_type": "markdown",
     "metadata": {},
     "source": [
      "## Baseline classifiers based on Scikit-learn documentation\n",
      "\n",
      "This is the sample classifier described in the [Sklearn documentation](http://scikit-learn.org/stable/datasets/twenty_newsgroups.html). It's F-score is reported as 0.7316 but here the performance is significantly better at 0.7885. This classifier will be the basis of the baseline classifiers."
     ]
    },
    {
     "cell_type": "code",
     "collapsed": false,
     "input": [
      "vect = TfidfVectorizer()\n",
      "x = vect.fit_transform(train_4.data)\n",
      "\n",
      "model = MultinomialNB(alpha=0.01)\n",
      "model.fit(x, train_4.target)\n",
      "\n",
      "x_test = vect.transform(test_4.data)\n",
      "pred = model.predict(x_test)\n",
      "\n",
      "score = f1_score(test_4.target, pred)\n",
      "\n",
      "HTML(\"<p>F-score %.4f over %d categories using %d features.</p>\" % (score, len(categories), x.shape[1]))"
     ],
     "language": "python",
     "metadata": {},
     "outputs": [
      {
       "html": [
        "<p>F-score 0.7885 over 4 categories using 26879 features.</p>"
       ],
       "metadata": {},
       "output_type": "pyout",
       "prompt_number": 54,
       "text": [
        "<IPython.core.display.HTML at 0x1104b2450>"
       ]
      }
     ],
     "prompt_number": 54
    },
    {
     "cell_type": "markdown",
     "metadata": {},
     "source": [
      "The baseline classifiers uses linear SVM and size restricted feature vectors over all 20 or the four selected categories."
     ]
    },
    {
     "cell_type": "code",
     "collapsed": false,
     "input": [
      "vect = TfidfVectorizer()\n",
      "x = vect.fit_transform(train_4.data)\n",
      "\n",
      "model = LinearSVC()\n",
      "grid = GridSearchCV(model, svm_grid, n_jobs=3, verbose=1, cv=10)\n",
      "grid.fit(x, train_4.target)\n",
      "\n",
      "print grid.best_score_\n",
      "print grid.best_params_\n",
      "\n",
      "model = LinearSVC(**grid.best_params_)\n",
      "model.fit(x, train_4.target)\n",
      "\n",
      "x_test = vect.transform(test_4.data)\n",
      "pred = model.predict(x_test)\n",
      "\n",
      "score = f1_score(test_4.target, pred)\n",
      "\n",
      "HTML(\"<p>F-score %.4f over %d categories using %d features.</p>\" % (score, len(categories), x.shape[1]))"
     ],
     "language": "python",
     "metadata": {},
     "outputs": [
      {
       "output_type": "stream",
       "stream": "stdout",
       "text": [
        "Fitting 10 folds for each of 11 candidates, totalling 110 fits\n"
       ]
      },
      {
       "output_type": "stream",
       "stream": "stderr",
       "text": [
        "[Parallel(n_jobs=3)]: Done   1 jobs       | elapsed:    0.1s\n",
        "[Parallel(n_jobs=3)]: Done  50 jobs       | elapsed:    1.5s\n",
        "[Parallel(n_jobs=3)]: Done 106 out of 110 | elapsed:   20.4s remaining:    0.8s\n",
        "[Parallel(n_jobs=3)]: Done 110 out of 110 | elapsed:   23.6s finished\n"
       ]
      },
      {
       "output_type": "stream",
       "stream": "stdout",
       "text": [
        "0.836283185841\n",
        "{'C': 3}\n"
       ]
      },
      {
       "html": [
        "<p>F-score 0.7794 over 4 categories using 26879 features.</p>"
       ],
       "metadata": {},
       "output_type": "pyout",
       "prompt_number": 75,
       "text": [
        "<IPython.core.display.HTML at 0x10ff75b50>"
       ]
      }
     ],
     "prompt_number": 75
    },
    {
     "cell_type": "code",
     "collapsed": false,
     "input": [],
     "language": "python",
     "metadata": {},
     "outputs": []
    }
   ],
   "metadata": {}
  }
 ]
}