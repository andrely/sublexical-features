{
 "metadata": {
  "name": "",
  "signature": "sha256:704bd8f3607f7b6c65f038d14e91df7a4c7deb52e6339b14ffa7fe4553d0af4b"
 },
 "nbformat": 3,
 "nbformat_minor": 0,
 "worksheets": [
  {
   "cells": [
    {
     "cell_type": "code",
     "collapsed": false,
     "input": [
      "import sys\n",
      "import os\n",
      "sys.path.append(os.path.join(os.getcwd(), 'BrownClustering'))\n",
      "sys.path.append(os.path.join(os.getcwd(), 'SublexicalSemantics'))\n",
      "%load_ext autoreload\n",
      "%autoreload 2\n",
      "\n",
      "import logging\n",
      "logging.basicConfig(level=logging.INFO)"
     ],
     "language": "python",
     "metadata": {},
     "outputs": [],
     "prompt_number": 1
    },
    {
     "cell_type": "code",
     "collapsed": false,
     "input": [
      "from IPython.core.display import HTML\n",
      "\n",
      "from glob import glob\n",
      "from collections import defaultdict\n",
      "\n",
      "import numpy as np\n",
      "\n",
      "import nltk\n",
      "from sklearn.feature_extraction.text import CountVectorizer, TfidfVectorizer\n",
      "from sklearn.preprocessing import LabelBinarizer, MinMaxScaler\n",
      "from sklearn.utils.multiclass import unique_labels\n",
      "from sklearn.pipeline import Pipeline\n",
      "from sklearn.cross_validation import KFold\n",
      "from sklearn.datasets import fetch_20newsgroups\n",
      "from sklearn.naive_bayes import MultinomialNB\n",
      "from sklearn.metrics import f1_score\n",
      "from sklearn.svm import LinearSVC\n",
      "from sklearn.grid_search import GridSearchCV\n",
      "\n",
      "from shared_corpora.newsgroups import article_count, newsgroups_corpus_path, parse_articles, GroupSequence, ArticleSequence\n",
      "from experiment_support.preprocessing import mahoney_clean, make_preprocessor, clean_c35, clean_c36, clean_c45\n",
      "from sublexical_semantics.vectorizers import LsiVectorizer"
     ],
     "language": "python",
     "metadata": {},
     "outputs": [
      {
       "output_type": "stream",
       "stream": "stderr",
       "text": [
        "C:\\Users\\stinky\\Anaconda\\lib\\site-packages\\numpy\\lib\\utils.py:134: DeprecationWarning: `scipy.sparse.sparsetools` is deprecated!\n",
        "scipy.sparse.sparsetools is a private module for scipy.sparse, and should not be used.\n",
        "  warnings.warn(depdoc, DeprecationWarning)\n"
       ]
      }
     ],
     "prompt_number": 2
    },
    {
     "cell_type": "code",
     "collapsed": false,
     "input": [
      "corpus_path = 'd:\\\\Corpora\\\\20news-19997\\\\'\n",
      "\n",
      "n_jobs=10\n",
      "\n",
      "categories = ['alt.atheism', 'talk.religion.misc', 'comp.graphics', 'sci.space']\n",
      "\n",
      "svm_grid = {'svm__C': [0.001, 0.003, 0.01, 0.03, 0.1, 0.3, 1, 3, 10, 30, 100]}\n",
      "\n",
      "def word_preproc(text):\n",
      "    return mahoney_clean(text)\n",
      "\n",
      "# vect_args = {}\n",
      "# vect_args = {'min_df': 5, 'max_df': 0.8}\n",
      "# vect_args = {'min_df': 5, 'max_df': 0.5}\n",
      "# vect_args = {'min_df': 5, 'max_df': 0.5, 'sublinear_tf': True}\n",
      "# vect_args = {'min_df': 5, 'max_df': 0.5, 'sublinear_tf': True, 'preprocessor': mahoney_clean}\n",
      "vect_args = {'min_df': 5, 'max_df': 0.5, 'sublinear_tf': True, 'preprocessor': clean_c35}"
     ],
     "language": "python",
     "metadata": {},
     "outputs": [],
     "prompt_number": 3
    },
    {
     "cell_type": "code",
     "collapsed": false,
     "input": [
      "train_4 = fetch_20newsgroups(subset='train', remove=('headers', 'footers', 'quotes'), \n",
      "                             categories=categories)\n",
      "test_4 = fetch_20newsgroups(subset='test', remove=('headers', 'footers', 'quotes'),\n",
      "                            categories=categories)\n",
      "\n",
      "train_all = fetch_20newsgroups(subset='train', remove=('headers', 'footers', 'quotes'))\n",
      "test_all = fetch_20newsgroups(subset='test', remove=('headers', 'footers', 'quotes'))"
     ],
     "language": "python",
     "metadata": {},
     "outputs": [],
     "prompt_number": 4
    },
    {
     "cell_type": "markdown",
     "metadata": {},
     "source": [
      "## Baseline classifiers based on Scikit-learn documentation\n",
      "\n",
      "This is the sample classifier described in the [Sklearn documentation](http://scikit-learn.org/stable/datasets/twenty_newsgroups.html). It's F-score is reported as 0.7316 but here the performance is significantly better at 0.7885. This classifier will be the basis of the baseline classifiers."
     ]
    },
    {
     "cell_type": "code",
     "collapsed": false,
     "input": [
      "vect = TfidfVectorizer(**vect_args)\n",
      "x = vect.fit_transform(train_4.data)\n",
      "\n",
      "model = MultinomialNB(alpha=0.01)\n",
      "model.fit(x, train_4.target)\n",
      "\n",
      "x_test = vect.transform(test_4.data)\n",
      "pred = model.predict(x_test)\n",
      "\n",
      "score = f1_score(test_4.target, pred)\n",
      "\n",
      "HTML(\"<p>F-score %.4f over %d categories using %d features.</p>\" % (score, len(categories), x.shape[1]))"
     ],
     "language": "python",
     "metadata": {},
     "outputs": [
      {
       "html": [
        "<p>F-score 0.7639 over 4 categories using 5377 features.</p>"
       ],
       "metadata": {},
       "output_type": "pyout",
       "prompt_number": 5,
       "text": [
        "<IPython.core.display.HTML at 0x39826d8>"
       ]
      }
     ],
     "prompt_number": 5
    },
    {
     "cell_type": "code",
     "collapsed": false,
     "input": [
      "vect = TfidfVectorizer(**vect_args)\n",
      "x = vect.fit_transform(train_all.data)\n",
      "\n",
      "model = MultinomialNB(alpha=0.01)\n",
      "model.fit(x, train_all.target)\n",
      "\n",
      "x_test = vect.transform(test_all.data)\n",
      "pred = model.predict(x_test)\n",
      "\n",
      "score = f1_score(test_all.target, pred)\n",
      "\n",
      "HTML(\"<p>F-score %.4f over all categories using %d features.</p>\" % (score, x.shape[1]))"
     ],
     "language": "python",
     "metadata": {},
     "outputs": [
      {
       "html": [
        "<p>F-score 0.6718 over all categories using 16399 features.</p>"
       ],
       "metadata": {},
       "output_type": "pyout",
       "prompt_number": 6,
       "text": [
        "<IPython.core.display.HTML at 0x3982860>"
       ]
      }
     ],
     "prompt_number": 6
    },
    {
     "cell_type": "markdown",
     "metadata": {},
     "source": [
      "The baseline classifiers uses linear SVM and size restricted feature vectors over all 20 or the four selected categories."
     ]
    },
    {
     "cell_type": "code",
     "collapsed": false,
     "input": [
      "model = Pipeline([('vect', TfidfVectorizer(**vect_args)), ('svm', LinearSVC())])\n",
      "grid = GridSearchCV(model, svm_grid, n_jobs=n_jobs, verbose=1, cv=10)\n",
      "grid.fit(train_4.data, train_4.target)\n",
      "\n",
      "model = Pipeline([('vect', TfidfVectorizer(**vect_args)), ('svm', LinearSVC())])\n",
      "model.set_params(**grid.best_params_)\n",
      "model.fit(train_4.data, train_4.target)\n",
      "\n",
      "pred = model.predict(test_4.data)\n",
      "\n",
      "score = f1_score(test_4.target, pred)\n",
      "\n",
      "out_html = \"<p>F-score %.4f over %d categories using %d features and C: %s.</p>\" % (score, len(categories), \n",
      "                                                                                    len(model.steps[0][1].vocabulary_), \n",
      "                                                                                    grid.best_params_['svm__C'])\n",
      "\n",
      "model = Pipeline([('vect', TfidfVectorizer(**vect_args)), ('svm', LinearSVC())])\n",
      "grid = GridSearchCV(model, svm_grid, n_jobs=n_jobs, verbose=1, cv=10)\n",
      "grid.fit(train_all.data, train_all.target)\n",
      "\n",
      "model = Pipeline([('vect', TfidfVectorizer(**vect_args)), ('svm', LinearSVC())])\n",
      "model.set_params(**grid.best_params_)\n",
      "model.fit(train_all.data, train_all.target)\n",
      "\n",
      "pred = model.predict(test_all.data)\n",
      "\n",
      "score = f1_score(test_all.target, pred)\n",
      "\n",
      "out_html += \"<p>F-score %.4f over all categories using %d features and C: %s.</p>\" % (score, len(model.steps[0][1].vocabulary_), \n",
      "                                                                                      grid.best_params_['svm__C'])\n",
      "\n",
      "HTML(out_html)"
     ],
     "language": "python",
     "metadata": {},
     "outputs": [
      {
       "output_type": "stream",
       "stream": "stderr",
       "text": [
        "[Parallel(n_jobs=10)]: Done   1 jobs       | elapsed:    1.3s\n",
        "[Parallel(n_jobs=10)]: Done  50 jobs       | elapsed:   11.3s\n",
        "[Parallel(n_jobs=10)]: Done  92 out of 110 | elapsed:   17.5s remaining:    3.3s\n",
        "[Parallel(n_jobs=10)]: Done 110 out of 110 | elapsed:   21.1s finished\n"
       ]
      },
      {
       "output_type": "stream",
       "stream": "stdout",
       "text": [
        "Fitting 10 folds for each of 11 candidates, totalling 110 fits\n",
        "Fitting 10 folds for each of 11 candidates, totalling 110 fits"
       ]
      },
      {
       "output_type": "stream",
       "stream": "stderr",
       "text": [
        "[Parallel(n_jobs=10)]: Done   1 jobs       | elapsed:    7.2s\n",
        "[Parallel(n_jobs=10)]: Done  50 jobs       | elapsed:   50.8s\n",
        "[Parallel(n_jobs=10)]: Done  92 out of 110 | elapsed:  2.0min remaining:   23.0s\n",
        "[Parallel(n_jobs=10)]: Done 110 out of 110 | elapsed:  3.0min finished\n"
       ]
      },
      {
       "output_type": "stream",
       "stream": "stdout",
       "text": [
        "\n"
       ]
      },
      {
       "html": [
        "<p>F-score 0.7524 over 4 categories using 5377 features and C: 0.3.</p><p>F-score 0.6843 over all categories using 16399 features and C: 0.3.</p>"
       ],
       "metadata": {},
       "output_type": "pyout",
       "prompt_number": 7,
       "text": [
        "<IPython.core.display.HTML at 0x26aebfd0>"
       ]
      }
     ],
     "prompt_number": 7
    },
    {
     "cell_type": "code",
     "collapsed": false,
     "input": [
      "out_html = \"\"\n",
      "\n",
      "for max_feat in [1000, 2000, 5000]:\n",
      "    for n_cat in [4, 20]:\n",
      "        if n_cat == 4:\n",
      "            train, test = train_4, test_4\n",
      "        else:\n",
      "            train, test = train_all, test_all\n",
      "            \n",
      "        \n",
      "        vect = TfidfVectorizer(max_features=max_feat, **vect_args)\n",
      "        x = vect.fit_transform(train.data)\n",
      "\n",
      "        model = MultinomialNB(alpha=0.01)\n",
      "        model.fit(x, train.target)\n",
      "\n",
      "        x_test = vect.transform(test.data)\n",
      "        pred = model.predict(x_test)\n",
      "\n",
      "        score = f1_score(test.target, pred)\n",
      "\n",
      "        out_html += \"<p>F-score %.4f over %d categories using %d features.</p>\" % (score, n_cat, x.shape[1])\n",
      "        \n",
      "HTML(out_html)"
     ],
     "language": "python",
     "metadata": {},
     "outputs": [
      {
       "html": [
        "<p>F-score 0.7134 over 4 categories using 1000 features.</p><p>F-score 0.4779 over 20 categories using 1000 features.</p><p>F-score 0.7429 over 4 categories using 2000 features.</p><p>F-score 0.5505 over 20 categories using 2000 features.</p><p>F-score 0.7661 over 4 categories using 5000 features.</p><p>F-score 0.6303 over 20 categories using 5000 features.</p>"
       ],
       "metadata": {},
       "output_type": "pyout",
       "prompt_number": 8,
       "text": [
        "<IPython.core.display.HTML at 0x137068d0>"
       ]
      }
     ],
     "prompt_number": 8
    },
    {
     "cell_type": "code",
     "collapsed": false,
     "input": [
      "out_html = \"\"\n",
      "\n",
      "for max_feat in [1000, 2000, 5000]:\n",
      "    for n_cat in [4, 20]:\n",
      "        if n_cat == 4:\n",
      "            train, test = train_4, test_4\n",
      "        else:\n",
      "            train, test = train_all, test_all\n",
      "            \n",
      "        \n",
      "        model = Pipeline([('vect', TfidfVectorizer(max_features=max_feat, **vect_args)), ('svm', LinearSVC())])\n",
      "        grid = GridSearchCV(model, svm_grid, n_jobs=n_jobs, verbose=1, cv=10)\n",
      "        grid.fit(train.data, train.target)\n",
      "\n",
      "        model = Pipeline([('vect', TfidfVectorizer(max_features=max_feat, **vect_args)), ('svm', LinearSVC())])\n",
      "        model.set_params(**grid.best_params_)\n",
      "        model.fit(train.data, train.target)\n",
      "\n",
      "        pred = model.predict(test.data)\n",
      "\n",
      "        score = f1_score(test.target, pred)\n",
      "\n",
      "        out_html += \"<p>F-score %.4f over %d categories using %d features.</p>\" % (score, n_cat, max_feat)\n",
      "        \n",
      "HTML(out_html)"
     ],
     "language": "python",
     "metadata": {},
     "outputs": [
      {
       "output_type": "stream",
       "stream": "stderr",
       "text": [
        "[Parallel(n_jobs=10)]: Done   1 jobs       | elapsed:    1.3s\n",
        "[Parallel(n_jobs=10)]: Done  50 jobs       | elapsed:   11.1s\n",
        "[Parallel(n_jobs=10)]: Done 110 out of 110 | elapsed:   19.6s finished\n"
       ]
      },
      {
       "output_type": "stream",
       "stream": "stdout",
       "text": [
        "Fitting 10 folds for each of 11 candidates, totalling 110 fits\n",
        "Fitting 10 folds for each of 11 candidates, totalling 110 fits"
       ]
      },
      {
       "output_type": "stream",
       "stream": "stderr",
       "text": [
        "[Parallel(n_jobs=10)]: Done   1 jobs       | elapsed:    6.9s\n",
        "[Parallel(n_jobs=10)]: Done  50 jobs       | elapsed:   48.5s\n",
        "[Parallel(n_jobs=10)]: Done 110 out of 110 | elapsed:  2.1min finished\n"
       ]
      },
      {
       "output_type": "stream",
       "stream": "stdout",
       "text": [
        "\n",
        "Fitting 10 folds for each of 11 candidates, totalling 110 fits"
       ]
      },
      {
       "output_type": "stream",
       "stream": "stderr",
       "text": [
        "[Parallel(n_jobs=10)]: Done   1 jobs       | elapsed:    1.3s\n",
        "[Parallel(n_jobs=10)]: Done  50 jobs       | elapsed:   11.0s\n",
        "[Parallel(n_jobs=10)]: Done  92 out of 110 | elapsed:   17.1s remaining:    3.3s\n",
        "[Parallel(n_jobs=10)]: Done 110 out of 110 | elapsed:   19.8s finished\n"
       ]
      },
      {
       "output_type": "stream",
       "stream": "stdout",
       "text": [
        "\n",
        "Fitting 10 folds for each of 11 candidates, totalling 110 fits"
       ]
      },
      {
       "output_type": "stream",
       "stream": "stderr",
       "text": [
        "[Parallel(n_jobs=10)]: Done   1 jobs       | elapsed:    7.4s\n",
        "[Parallel(n_jobs=10)]: Done  50 jobs       | elapsed:   50.5s\n",
        "[Parallel(n_jobs=10)]: Done  92 out of 110 | elapsed:  1.7min remaining:   19.3s\n",
        "[Parallel(n_jobs=10)]: Done 110 out of 110 | elapsed:  2.1min finished\n"
       ]
      },
      {
       "output_type": "stream",
       "stream": "stdout",
       "text": [
        "\n",
        "Fitting 10 folds for each of 11 candidates, totalling 110 fits"
       ]
      },
      {
       "output_type": "stream",
       "stream": "stderr",
       "text": [
        "[Parallel(n_jobs=10)]: Done   1 jobs       | elapsed:    1.3s\n",
        "[Parallel(n_jobs=10)]: Done  50 jobs       | elapsed:   11.2s\n",
        "[Parallel(n_jobs=10)]: Done 110 out of 110 | elapsed:   21.3s finished\n"
       ]
      },
      {
       "output_type": "stream",
       "stream": "stdout",
       "text": [
        "\n",
        "Fitting 10 folds for each of 11 candidates, totalling 110 fits"
       ]
      },
      {
       "output_type": "stream",
       "stream": "stderr",
       "text": [
        "[Parallel(n_jobs=10)]: Done   1 jobs       | elapsed:    7.6s\n",
        "[Parallel(n_jobs=10)]: Done  50 jobs       | elapsed:   50.2s\n",
        "[Parallel(n_jobs=10)]: Done  92 out of 110 | elapsed:  1.8min remaining:   20.8s\n",
        "[Parallel(n_jobs=10)]: Done 110 out of 110 | elapsed:  2.4min finished\n"
       ]
      },
      {
       "output_type": "stream",
       "stream": "stdout",
       "text": [
        "\n"
       ]
      },
      {
       "html": [
        "<p>F-score 0.7022 over 4 categories using 1000 features.</p><p>F-score 0.5003 over 20 categories using 1000 features.</p><p>F-score 0.7236 over 4 categories using 2000 features.</p><p>F-score 0.5773 over 20 categories using 2000 features.</p><p>F-score 0.7493 over 4 categories using 5000 features.</p><p>F-score 0.6508 over 20 categories using 5000 features.</p>"
       ],
       "metadata": {},
       "output_type": "pyout",
       "prompt_number": 9,
       "text": [
        "<IPython.core.display.HTML at 0x26c68198>"
       ]
      }
     ],
     "prompt_number": 9
    },
    {
     "cell_type": "code",
     "collapsed": false,
     "input": [
      "out_html = \"\"\n",
      "\n",
      "for max_feat in [1000, 2000, 5000]:\n",
      "    for n_cat in [4, 20]:\n",
      "        if n_cat == 4:\n",
      "            train, test = train_4, test_4\n",
      "        else:\n",
      "            train, test = train_all, test_all\n",
      "        \n",
      "        model = Pipeline([('vect', TfidfVectorizer(max_features=max_feat, **vect_args)), \n",
      "                          ('svm', LinearSVC())])\n",
      "        grid = GridSearchCV(model, svm_grid, n_jobs=n_jobs, verbose=1, cv=10)\n",
      "        grid.fit(train.data, train.target)\n",
      "\n",
      "        model = Pipeline([('vect', TfidfVectorizer(max_features=max_feat, **vect_args)),\n",
      "                          ('svm', LinearSVC())])\n",
      "        model.set_params(**grid.best_params_)\n",
      "        model.fit(train.data, train.target)\n",
      "\n",
      "        pred = model.predict(test.data)\n",
      "\n",
      "        score = f1_score(test.target, pred)\n",
      "\n",
      "        out_html += \"<p>F-score %.4f over %d categories using %d features.</p>\" % (score, n_cat, max_feat)\n",
      "        \n",
      "HTML(out_html)"
     ],
     "language": "python",
     "metadata": {},
     "outputs": [
      {
       "output_type": "stream",
       "stream": "stderr",
       "text": [
        "[Parallel(n_jobs=10)]: Done   1 jobs       | elapsed:   19.0s\n",
        "[Parallel(n_jobs=10)]: Done  50 jobs       | elapsed:  1.8min\n",
        "[Parallel(n_jobs=10)]: Done  92 out of 110 | elapsed:  3.6min remaining:   41.9s\n",
        "[Parallel(n_jobs=10)]: Done 110 out of 110 | elapsed:  4.1min finished\n"
       ]
      },
      {
       "output_type": "stream",
       "stream": "stdout",
       "text": [
        "Fitting 10 folds for each of 11 candidates, totalling 110 fits\n",
        "Fitting 10 folds for each of 11 candidates, totalling 110 fits"
       ]
      },
      {
       "output_type": "stream",
       "stream": "stderr",
       "text": [
        "[Parallel(n_jobs=10)]: Done   1 jobs       | elapsed:  2.0min\n",
        "[Parallel(n_jobs=10)]: Done  50 jobs       | elapsed: 10.8min\n",
        "[Parallel(n_jobs=10)]: Done  92 out of 110 | elapsed: 23.1min remaining:  4.5min\n",
        "[Parallel(n_jobs=10)]: Done 110 out of 110 | elapsed: 26.9min finished\n"
       ]
      },
      {
       "output_type": "stream",
       "stream": "stdout",
       "text": [
        "\n",
        "Fitting 10 folds for each of 11 candidates, totalling 110 fits"
       ]
      },
      {
       "output_type": "stream",
       "stream": "stderr",
       "text": [
        "[Parallel(n_jobs=10)]: Done   1 jobs       | elapsed:   18.0s\n",
        "[Parallel(n_jobs=10)]: Done  50 jobs       | elapsed:  1.8min\n",
        "[Parallel(n_jobs=10)]: Done  92 out of 110 | elapsed:  3.6min remaining:   41.7s\n",
        "[Parallel(n_jobs=10)]: Done 110 out of 110 | elapsed:  4.1min finished\n"
       ]
      },
      {
       "output_type": "stream",
       "stream": "stdout",
       "text": [
        "\n",
        "Fitting 10 folds for each of 11 candidates, totalling 110 fits"
       ]
      },
      {
       "output_type": "stream",
       "stream": "stderr",
       "text": [
        "[Parallel(n_jobs=10)]: Done   1 jobs       | elapsed:  2.0min\n",
        "[Parallel(n_jobs=10)]: Done  50 jobs       | elapsed: 10.8min\n",
        "[Parallel(n_jobs=10)]: Done  92 out of 110 | elapsed: 23.2min remaining:  4.5min\n",
        "[Parallel(n_jobs=10)]: Done 110 out of 110 | elapsed: 26.8min finished\n"
       ]
      },
      {
       "output_type": "stream",
       "stream": "stdout",
       "text": [
        "\n",
        "Fitting 10 folds for each of 11 candidates, totalling 110 fits"
       ]
      },
      {
       "output_type": "stream",
       "stream": "stderr",
       "text": [
        "[Parallel(n_jobs=10)]: Done   1 jobs       | elapsed:   18.5s\n",
        "[Parallel(n_jobs=10)]: Done  50 jobs       | elapsed:  1.9min\n",
        "[Parallel(n_jobs=10)]: Done  92 out of 110 | elapsed:  3.7min remaining:   43.0s\n",
        "[Parallel(n_jobs=10)]: Done 110 out of 110 | elapsed:  4.3min finished\n"
       ]
      },
      {
       "output_type": "stream",
       "stream": "stdout",
       "text": [
        "\n",
        "Fitting 10 folds for each of 11 candidates, totalling 110 fits"
       ]
      },
      {
       "output_type": "stream",
       "stream": "stderr",
       "text": [
        "[Parallel(n_jobs=10)]: Done   1 jobs       | elapsed:  2.1min\n",
        "[Parallel(n_jobs=10)]: Done  50 jobs       | elapsed: 11.0min\n",
        "[Parallel(n_jobs=10)]: Done  92 out of 110 | elapsed: 24.0min remaining:  4.7min\n",
        "[Parallel(n_jobs=10)]: Done 110 out of 110 | elapsed: 28.4min finished\n"
       ]
      },
      {
       "output_type": "stream",
       "stream": "stdout",
       "text": [
        "\n"
       ]
      },
      {
       "html": [
        "<p>F-score 0.6487 over 4 categories using 1000 features.</p><p>F-score 0.4388 over 20 categories using 1000 features.</p><p>F-score 0.6920 over 4 categories using 2000 features.</p><p>F-score 0.5078 over 20 categories using 2000 features.</p><p>F-score 0.7195 over 4 categories using 5000 features.</p><p>F-score 0.5715 over 20 categories using 5000 features.</p>"
       ],
       "metadata": {},
       "output_type": "pyout",
       "prompt_number": 5,
       "text": [
        "<IPython.core.display.HTML at 0x39589b0>"
       ]
      }
     ],
     "prompt_number": 5
    },
    {
     "cell_type": "markdown",
     "metadata": {},
     "source": [
      "### Baseline F-scores\n",
      "| # features | Model | # classes | No filter | 5/0.8| 5/0.5 | 5/0.5/ln | 5/0.5/ln/clean | 5/0.5/ln/c35 |\n",
      "|-|:-:|:-:|:-:|:-:|:-:|:-:|:-:|:-:|\n",
      "| unlim. | NB | 4 | 0.7885 | 0.7722 | 0.7691 | 0.7621 | 0.7639 | |\n",
      "| unlim. | SVM | 4 | 0.7712 | 0.7573 | 0.7589 | 0.7554 | 0.7524 | |\n",
      "| 5000 | NB | 4 | 0.7690 | 0.7703 | 0.7703 | 0.7603 | 0.7661 | |\n",
      "| 5000 | SVM | 4 | 0.7611 | 0.7601 | 0.7550 | 0.7540 | 0.7493 | 0.7195 |\n",
      "| 2000 | NB | 4 | 0.7360 | 0.7342 | 0.7377 | 0.7333 | 0.7429 | |\n",
      "| 2000 | SVM | 4 | 0.7361 | 0.7350 | 0.7298 | 0.7282 | 0.7236 | 0.6920 |\n",
      "| 1000 | NB | 4 | 0.7112 | 0.7116 | 0.7140 | 0.7125 | 0.7134 | |\n",
      "| 1000 | SVM | 4 | 0.7112 | 0.7070 | 0.7096 | 0.7024 | 0.7022 | 0.6487 |\n",
      "| unlim. | NB | 20 | 0.6943 | 0.6801 | 0.6789 | 0.6738 | 0.6718 | |\n",
      "| unlim. | SVM | 20 | 0.6973 | 0.6845 | 0.6873 | 0.6909 | 0.6843 | |\n",
      "| 5000 | NB | 20 | 0.6313 | 0.6291 |  0.6316 | 0.6286 | 0.6303 | |\n",
      "| 5000 | SVM | 20 | 0.6419 | 0.6404 | 0.6444 | 0.6525 | 0.6508 | 0.5715 |\n",
      "| 2000 | NB | 20 | 0.5525 | 0.5517 | 0.5524 | 0.5493 | 0.5505 | |\n",
      "| 2000 | SVM | 20 | 0.5640 | 0.5633 | 0.5643 | 0.5705 | 0.5773 | 0.5078 |\n",
      "| 1000 | NB | 20 | 0.4789 | 0.4791 | 0.4802 | 0.4746 | 0.4779 | |\n",
      "| 1000 | SVM | 20 | 0.4846 | 0.4845 |0.4875 | 0.4930 | 0.5003 | 0.4388 |"
     ]
    },
    {
     "cell_type": "code",
     "collapsed": false,
     "input": [
      "out_html = \"\"\n",
      "\n",
      "for n_cat in [4, 20]:\n",
      "    if n_cat == 4:\n",
      "        train, test = train_4, test_4\n",
      "    else:\n",
      "        train, test = train_all, test_all\n",
      "\n",
      "\n",
      "    model = Pipeline([('vect', LsiVectorizer('d:\\\\Work\\\\sublexical-features\\\\models\\\\lsi\\\\lsi-mixed\\\\lsi-12M-3-5-20', \n",
      "                                             preprocessor=clean_c35)), \n",
      "                      ('svm', LinearSVC())])\n",
      "    grid = GridSearchCV(model, svm_grid, n_jobs=n_jobs, verbose=1, cv=10)\n",
      "    grid.fit(train.data, train.target)\n",
      "\n",
      "    model = Pipeline([('vect', LsiVectorizer('d:\\\\Work\\\\sublexical-features\\\\models\\\\lsi\\\\lsi-mixed\\\\lsi-12M-3-5-20', \n",
      "                                             preprocessor=clean_c35)), \n",
      "                      ('svm', LinearSVC())])\n",
      "    model.set_params(**grid.best_params_)\n",
      "    model.fit(train.data, train.target)\n",
      "\n",
      "    pred = model.predict(test.data)\n",
      "\n",
      "    score = f1_score(test.target, pred)\n",
      "\n",
      "    out_html += \"<p>F-score %.4f over %d categories using %d features.</p>\" % (score, n_cat, max_feat)\n",
      "\n",
      "HTML(out_html)"
     ],
     "language": "python",
     "metadata": {},
     "outputs": [
      {
       "output_type": "stream",
       "stream": "stderr",
       "text": [
        "[Parallel(n_jobs=10)]: Done   1 jobs       | elapsed:   52.0s\n",
        "[Parallel(n_jobs=10)]: Done  50 jobs       | elapsed:  4.5min\n",
        "[Parallel(n_jobs=10)]: Done  92 out of 110 | elapsed:  9.0min remaining:  1.8min\n",
        "[Parallel(n_jobs=10)]: Done 110 out of 110 | elapsed: 10.4min finished\n"
       ]
      },
      {
       "output_type": "stream",
       "stream": "stdout",
       "text": [
        "Fitting 10 folds for each of 11 candidates, totalling 110 fits\n",
        "Fitting 10 folds for each of 11 candidates, totalling 110 fits"
       ]
      },
      {
       "output_type": "stream",
       "stream": "stderr",
       "text": [
        "[Parallel(n_jobs=10)]: Done   1 jobs       | elapsed:  4.9min\n",
        "[Parallel(n_jobs=10)]: Done  50 jobs       | elapsed: 25.1min\n",
        "[Parallel(n_jobs=10)]: Done 110 out of 110 | elapsed: 68.0min finished\n"
       ]
      },
      {
       "output_type": "stream",
       "stream": "stdout",
       "text": [
        "\n"
       ]
      },
      {
       "html": [
        "<p>F-score 0.7491 over 4 categories using 5000 features.</p><p>F-score 0.6179 over 20 categories using 5000 features.</p>"
       ],
       "metadata": {},
       "output_type": "pyout",
       "prompt_number": 18,
       "text": [
        "<IPython.core.display.HTML at 0x22f44048>"
       ]
      }
     ],
     "prompt_number": 18
    },
    {
     "cell_type": "code",
     "collapsed": false,
     "input": [
      "out_html = \"\"\n",
      "\n",
      "for n_cat in [4, 20]:\n",
      "    if n_cat == 4:\n",
      "        train, test = train_4, test_4\n",
      "    else:\n",
      "        train, test = train_all, test_all\n",
      "\n",
      "\n",
      "    model = Pipeline([('vect', LsiVectorizer('d:\\\\Work\\\\sublexical-features\\\\models\\\\lsi\\\\lsi-mixed\\\\lsi-120M-3-5-50', \n",
      "                                             preprocessor=clean_c35)), \n",
      "                      ('svm', LinearSVC())])\n",
      "    grid = GridSearchCV(model, svm_grid, n_jobs=n_jobs, verbose=1, cv=10)\n",
      "    grid.fit(train.data, train.target)\n",
      "\n",
      "    model = Pipeline([('vect', LsiVectorizer('d:\\\\Work\\\\sublexical-features\\\\models\\\\lsi\\\\lsi-mixed\\\\lsi-120M-3-5-50', \n",
      "                                             preprocessor=clean_c35)), \n",
      "                      ('svm', LinearSVC())])\n",
      "    model.set_params(**grid.best_params_)\n",
      "    model.fit(train.data, train.target)\n",
      "\n",
      "    pred = model.predict(test.data)\n",
      "\n",
      "    score = f1_score(test.target, pred)\n",
      "\n",
      "    out_html += \"<p>F-score %.4f over %d categories using lsi-120M-3-5-50.</p>\" % (score, n_cat)\n",
      "\n",
      "HTML(out_html)"
     ],
     "language": "python",
     "metadata": {},
     "outputs": [
      {
       "output_type": "stream",
       "stream": "stderr",
       "text": [
        "[Parallel(n_jobs=10)]: Done   1 jobs       | elapsed:   50.0s\n",
        "[Parallel(n_jobs=10)]: Done  50 jobs       | elapsed:  4.7min\n",
        "[Parallel(n_jobs=10)]: Done  92 out of 110 | elapsed:  9.3min remaining:  1.8min\n",
        "[Parallel(n_jobs=10)]: Done 110 out of 110 | elapsed: 10.7min finished\n"
       ]
      },
      {
       "output_type": "stream",
       "stream": "stdout",
       "text": [
        "Fitting 10 folds for each of 11 candidates, totalling 110 fits\n",
        "Fitting 10 folds for each of 11 candidates, totalling 110 fits"
       ]
      },
      {
       "output_type": "stream",
       "stream": "stderr",
       "text": [
        "[Parallel(n_jobs=10)]: Done   1 jobs       | elapsed:  5.0min\n",
        "[Parallel(n_jobs=10)]: Done  50 jobs       | elapsed: 25.6min\n",
        "[Parallel(n_jobs=10)]: Done  92 out of 110 | elapsed: 57.1min remaining: 11.2min\n",
        "[Parallel(n_jobs=10)]: Done 110 out of 110 | elapsed: 68.0min finished\n"
       ]
      },
      {
       "output_type": "stream",
       "stream": "stdout",
       "text": [
        "\n"
       ]
      },
      {
       "html": [
        "<p>F-score 0.7491 over 4 categories using lsi-120M-3-5-50.</p><p>F-score 0.6131 over 20 categories using lsi-120M-3-5-50.</p>"
       ],
       "metadata": {},
       "output_type": "pyout",
       "prompt_number": 25,
       "text": [
        "<IPython.core.display.HTML at 0x26671978>"
       ]
      }
     ],
     "prompt_number": 25
    },
    {
     "cell_type": "code",
     "collapsed": false,
     "input": [
      "out_html = \"\"\n",
      "\n",
      "for n_cat in [4, 20]:\n",
      "    if n_cat == 4:\n",
      "        train, test = train_4, test_4\n",
      "    else:\n",
      "        train, test = train_all, test_all\n",
      "\n",
      "\n",
      "    model = Pipeline([('vect', LsiVectorizer('d:\\\\Work\\\\sublexical-features\\\\models\\\\lsi\\\\lsi-mixed\\\\lsi-12M-4-5-20', \n",
      "                                             preprocessor=clean_c45)), \n",
      "                      ('svm', LinearSVC())])\n",
      "    grid = GridSearchCV(model, svm_grid, n_jobs=n_jobs, verbose=1, cv=10)\n",
      "    grid.fit(train.data, train.target)\n",
      "\n",
      "    model = Pipeline([('vect', LsiVectorizer('d:\\\\Work\\\\sublexical-features\\\\models\\\\lsi\\\\lsi-mixed\\\\lsi-12M-4-5-20', \n",
      "                                             preprocessor=clean_c45)), \n",
      "                      ('svm', LinearSVC())])\n",
      "    model.set_params(**grid.best_params_)\n",
      "    model.fit(train.data, train.target)\n",
      "\n",
      "    pred = model.predict(test.data)\n",
      "\n",
      "    score = f1_score(test.target, pred)\n",
      "\n",
      "    out_html += \"<p>F-score %.4f over %d categories using lsi-12M-4-5-20.</p>\" % (score, n_cat)\n",
      "\n",
      "HTML(out_html)"
     ],
     "language": "python",
     "metadata": {},
     "outputs": [
      {
       "output_type": "stream",
       "stream": "stderr",
       "text": [
        "[Parallel(n_jobs=10)]: Done   1 jobs       | elapsed:   39.5s\n",
        "[Parallel(n_jobs=10)]: Done  50 jobs       | elapsed:  3.6min\n",
        "[Parallel(n_jobs=10)]: Done  92 out of 110 | elapsed:  7.2min remaining:  1.4min\n",
        "[Parallel(n_jobs=10)]: Done 110 out of 110 | elapsed:  8.4min finished\n"
       ]
      },
      {
       "output_type": "stream",
       "stream": "stdout",
       "text": [
        "Fitting 10 folds for each of 11 candidates, totalling 110 fits\n",
        "Fitting 10 folds for each of 11 candidates, totalling 110 fits"
       ]
      },
      {
       "output_type": "stream",
       "stream": "stderr",
       "text": [
        "[Parallel(n_jobs=10)]: Done   1 jobs       | elapsed:  3.7min\n",
        "[Parallel(n_jobs=10)]: Done  50 jobs       | elapsed: 19.5min\n",
        "[Parallel(n_jobs=10)]: Done  92 out of 110 | elapsed: 46.4min remaining:  9.1min\n",
        "[Parallel(n_jobs=10)]: Done 110 out of 110 | elapsed: 56.0min finished\n"
       ]
      },
      {
       "output_type": "stream",
       "stream": "stdout",
       "text": [
        "\n"
       ]
      },
      {
       "html": [
        "<p>F-score 0.7424 over 4 categories using lsi-12M-4-5-20.</p><p>F-score 0.6132 over 20 categories using lsi-12M-4-5-20.</p>"
       ],
       "metadata": {},
       "output_type": "pyout",
       "prompt_number": 23,
       "text": [
        "<IPython.core.display.HTML at 0x283ca898>"
       ]
      }
     ],
     "prompt_number": 23
    },
    {
     "cell_type": "code",
     "collapsed": false,
     "input": [
      "out_html = \"\"\n",
      "\n",
      "for n_cat in [4, 20]:\n",
      "    if n_cat == 4:\n",
      "        train, test = train_4, test_4\n",
      "    else:\n",
      "        train, test = train_all, test_all\n",
      "\n",
      "\n",
      "    model = Pipeline([('vect', LsiVectorizer('d:\\\\Work\\\\sublexical-features\\\\models\\\\lsi\\\\lsi-mixed\\\\lsi-120M-4-5-50', \n",
      "                                             preprocessor=clean_c45)), \n",
      "                      ('svm', LinearSVC())])\n",
      "    grid = GridSearchCV(model, svm_grid, n_jobs=n_jobs, verbose=1, cv=10)\n",
      "    grid.fit(train.data, train.target)\n",
      "\n",
      "    model = Pipeline([('vect', LsiVectorizer('d:\\\\Work\\\\sublexical-features\\\\models\\\\lsi\\\\lsi-mixed\\\\lsi-120M-4-5-50', \n",
      "                                             preprocessor=clean_c45)), \n",
      "                      ('svm', LinearSVC())])\n",
      "    model.set_params(**grid.best_params_)\n",
      "    model.fit(train.data, train.target)\n",
      "\n",
      "    pred = model.predict(test.data)\n",
      "\n",
      "    score = f1_score(test.target, pred)\n",
      "\n",
      "    out_html += \"<p>F-score %.4f over %d categories using lsi-120M-4-5-50.</p>\" % (score, n_cat)\n",
      "\n",
      "HTML(out_html)"
     ],
     "language": "python",
     "metadata": {},
     "outputs": [
      {
       "output_type": "stream",
       "stream": "stderr",
       "text": [
        "[Parallel(n_jobs=10)]: Done   1 jobs       | elapsed:   41.3s\n",
        "[Parallel(n_jobs=10)]: Done  50 jobs       | elapsed:  3.7min\n",
        "[Parallel(n_jobs=10)]: Done 110 out of 110 | elapsed:  8.8min finished\n"
       ]
      },
      {
       "output_type": "stream",
       "stream": "stdout",
       "text": [
        "Fitting 10 folds for each of 11 candidates, totalling 110 fits\n",
        "Fitting 10 folds for each of 11 candidates, totalling 110 fits"
       ]
      },
      {
       "output_type": "stream",
       "stream": "stderr",
       "text": [
        "[Parallel(n_jobs=10)]: Done   1 jobs       | elapsed:  3.9min\n",
        "[Parallel(n_jobs=10)]: Done  50 jobs       | elapsed: 20.1min\n",
        "[Parallel(n_jobs=10)]: Done  92 out of 110 | elapsed: 46.7min remaining:  9.1min\n",
        "[Parallel(n_jobs=10)]: Done 110 out of 110 | elapsed: 56.1min finished\n"
       ]
      },
      {
       "output_type": "stream",
       "stream": "stdout",
       "text": [
        "\n"
       ]
      },
      {
       "html": [
        "<p>F-score 0.7435 over 4 categories using lsi-120M-4-5-50.</p><p>F-score 0.6031 over 20 categories using lsi-120M-4-5-50.</p>"
       ],
       "metadata": {},
       "output_type": "pyout",
       "prompt_number": 26,
       "text": [
        "<IPython.core.display.HTML at 0x283c9080>"
       ]
      }
     ],
     "prompt_number": 26
    },
    {
     "cell_type": "code",
     "collapsed": false,
     "input": [
      "out_html = \"\"\n",
      "\n",
      "for n_cat in [4, 20]:\n",
      "    if n_cat == 4:\n",
      "        train, test = train_4, test_4\n",
      "    else:\n",
      "        train, test = train_all, test_all\n",
      "\n",
      "\n",
      "    model = Pipeline([('vect', LsiVectorizer('d:\\\\Work\\\\sublexical-features\\\\models\\\\lsi\\\\lsi-mixed\\\\lsi-12M-3-6-20', \n",
      "                                             preprocessor=clean_c36)), \n",
      "                      ('svm', LinearSVC())])\n",
      "    grid = GridSearchCV(model, svm_grid, n_jobs=n_jobs, verbose=1, cv=10)\n",
      "    grid.fit(train.data, train.target)\n",
      "\n",
      "    model = Pipeline([('vect', LsiVectorizer('d:\\\\Work\\\\sublexical-features\\\\models\\\\lsi\\\\lsi-mixed\\\\lsi-12M-3-6-20', \n",
      "                                             preprocessor=clean_c36)), \n",
      "                      ('svm', LinearSVC())])\n",
      "    model.set_params(**grid.best_params_)\n",
      "    model.fit(train.data, train.target)\n",
      "\n",
      "    pred = model.predict(test.data)\n",
      "\n",
      "    score = f1_score(test.target, pred)\n",
      "\n",
      "    out_html += \"<p>F-score %.4f over %d categories using lsi-12M-3-6-20.</p>\" % (score, n_cat)\n",
      "\n",
      "HTML(out_html)"
     ],
     "language": "python",
     "metadata": {},
     "outputs": [
      {
       "output_type": "stream",
       "stream": "stderr",
       "text": [
        "[Parallel(n_jobs=10)]: Done   1 jobs       | elapsed:  1.1min\n",
        "[Parallel(n_jobs=10)]: Done  50 jobs       | elapsed:  5.9min\n",
        "[Parallel(n_jobs=10)]: Done  92 out of 110 | elapsed: 12.0min remaining:  2.3min\n",
        "[Parallel(n_jobs=10)]: Done 110 out of 110 | elapsed: 13.7min finished\n"
       ]
      },
      {
       "output_type": "stream",
       "stream": "stdout",
       "text": [
        "Fitting 10 folds for each of 11 candidates, totalling 110 fits\n",
        "Fitting 10 folds for each of 11 candidates, totalling 110 fits"
       ]
      },
      {
       "output_type": "stream",
       "stream": "stderr",
       "text": [
        "[Parallel(n_jobs=10)]: Done   1 jobs       | elapsed:  6.3min\n",
        "[Parallel(n_jobs=10)]: Done  50 jobs       | elapsed: 33.3min\n",
        "[Parallel(n_jobs=10)]: Done  92 out of 110 | elapsed: 72.6min remaining: 14.2min\n",
        "[Parallel(n_jobs=10)]: Done 110 out of 110 | elapsed: 85.3min finished\n"
       ]
      },
      {
       "output_type": "stream",
       "stream": "stdout",
       "text": [
        "\n"
       ]
      },
      {
       "html": [
        "<p>F-score 0.7331 over 4 categories using lsi-12M-3-6-20.</p><p>F-score 0.5810 over 20 categories using lsi-12M-3-6-20.</p>"
       ],
       "metadata": {},
       "output_type": "pyout",
       "prompt_number": 17,
       "text": [
        "<IPython.core.display.HTML at 0x266640b8>"
       ]
      }
     ],
     "prompt_number": 17
    },
    {
     "cell_type": "code",
     "collapsed": false,
     "input": [
      "out_html = \"\"\n",
      "\n",
      "for n_cat in [4, 20]:\n",
      "    if n_cat == 4:\n",
      "        train, test = train_4, test_4\n",
      "    else:\n",
      "        train, test = train_all, test_all\n",
      "\n",
      "\n",
      "    model = Pipeline([('vect', LsiVectorizer('d:\\\\Work\\\\sublexical-features\\\\models\\\\lsi\\\\lsi-mixed\\\\lsi-12M-w1-20', \n",
      "                                             preprocessor=mahoney_clean)), \n",
      "                      ('svm', LinearSVC())])\n",
      "    grid = GridSearchCV(model, svm_grid, n_jobs=n_jobs, verbose=1, cv=10)\n",
      "    grid.fit(train.data, train.target)\n",
      "\n",
      "    model = Pipeline([('vect', LsiVectorizer('d:\\\\Work\\\\sublexical-features\\\\models\\\\lsi\\\\lsi-mixed\\\\lsi-12M-w1-20', \n",
      "                                             preprocessor=mahoney_clean)), \n",
      "                      ('svm', LinearSVC())])\n",
      "    model.set_params(**grid.best_params_)\n",
      "    model.fit(train.data, train.target)\n",
      "\n",
      "    pred = model.predict(test.data)\n",
      "\n",
      "    score = f1_score(test.target, pred)\n",
      "\n",
      "    out_html += \"<p>F-score %.4f over %d categories using lsi-12M-w1-20.</p>\" % (score, n_cat)\n",
      "\n",
      "HTML(out_html)"
     ],
     "language": "python",
     "metadata": {},
     "outputs": [
      {
       "output_type": "stream",
       "stream": "stderr",
       "text": [
        "[Parallel(n_jobs=10)]: Done   1 jobs       | elapsed:    5.6s\n",
        "[Parallel(n_jobs=10)]: Done  50 jobs       | elapsed:   42.2s\n",
        "[Parallel(n_jobs=10)]: Done  92 out of 110 | elapsed:  1.7min remaining:   19.7s\n",
        "[Parallel(n_jobs=10)]: Done 110 out of 110 | elapsed:  2.3min finished\n"
       ]
      },
      {
       "output_type": "stream",
       "stream": "stdout",
       "text": [
        "Fitting 10 folds for each of 11 candidates, totalling 110 fits\n",
        "Fitting 10 folds for each of 11 candidates, totalling 110 fits"
       ]
      },
      {
       "output_type": "stream",
       "stream": "stderr",
       "text": [
        "[Parallel(n_jobs=10)]: Done   1 jobs       | elapsed:   43.7s\n",
        "[Parallel(n_jobs=10)]: Done  50 jobs       | elapsed:  4.3min\n",
        "[Parallel(n_jobs=10)]: Done  92 out of 110 | elapsed: 16.9min remaining:  3.3min\n",
        "[Parallel(n_jobs=10)]: Done 110 out of 110 | elapsed: 23.8min finished\n"
       ]
      },
      {
       "output_type": "stream",
       "stream": "stdout",
       "text": [
        "\n"
       ]
      },
      {
       "html": [
        "<p>F-score 0.7190 over 4 categories using lsi-12M-w1-20.</p><p>F-score 0.5518 over 20 categories using lsi-12M-w1-20.</p>"
       ],
       "metadata": {},
       "output_type": "pyout",
       "prompt_number": 19,
       "text": [
        "<IPython.core.display.HTML at 0x27d5cd68>"
       ]
      }
     ],
     "prompt_number": 19
    },
    {
     "cell_type": "code",
     "collapsed": false,
     "input": [
      "out_html = \"\"\n",
      "\n",
      "for n_cat in [4, 20]:\n",
      "    if n_cat == 4:\n",
      "        train, test = train_4, test_4\n",
      "    else:\n",
      "        train, test = train_all, test_all\n",
      "\n",
      "\n",
      "    model = Pipeline([('vect', LsiVectorizer('d:\\\\Work\\\\sublexical-features\\\\models\\\\lsi\\\\lsi-mixed\\\\lsi-120M-w1-50', \n",
      "                                             preprocessor=mahoney_clean)), \n",
      "                      ('svm', LinearSVC())])\n",
      "    grid = GridSearchCV(model, svm_grid, n_jobs=n_jobs, verbose=1, cv=10)\n",
      "    grid.fit(train.data, train.target)\n",
      "\n",
      "    model = Pipeline([('vect', LsiVectorizer('d:\\\\Work\\\\sublexical-features\\\\models\\\\lsi\\\\lsi-mixed\\\\lsi-120M-w1-50', \n",
      "                                             preprocessor=mahoney_clean)), \n",
      "                      ('svm', LinearSVC())])\n",
      "    model.set_params(**grid.best_params_)\n",
      "    model.fit(train.data, train.target)\n",
      "\n",
      "    pred = model.predict(test.data)\n",
      "\n",
      "    score = f1_score(test.target, pred)\n",
      "\n",
      "    out_html += \"<p>F-score %.4f over %d categories using lsi-120M-w1-50.</p>\" % (score, n_cat)\n",
      "\n",
      "HTML(out_html)"
     ],
     "language": "python",
     "metadata": {},
     "outputs": [
      {
       "output_type": "stream",
       "stream": "stderr",
       "text": [
        "[Parallel(n_jobs=10)]: Done   1 jobs       | elapsed:    6.2s\n",
        "[Parallel(n_jobs=10)]: Done  50 jobs       | elapsed:   45.0s\n",
        "[Parallel(n_jobs=10)]: Done  92 out of 110 | elapsed:  1.7min remaining:   20.0s\n",
        "[Parallel(n_jobs=10)]: Done 110 out of 110 | elapsed:  2.3min finished\n"
       ]
      },
      {
       "output_type": "stream",
       "stream": "stdout",
       "text": [
        "Fitting 10 folds for each of 11 candidates, totalling 110 fits\n",
        "Fitting 10 folds for each of 11 candidates, totalling 110 fits"
       ]
      },
      {
       "output_type": "stream",
       "stream": "stderr",
       "text": [
        "[Parallel(n_jobs=10)]: Done   1 jobs       | elapsed:   46.0s\n",
        "[Parallel(n_jobs=10)]: Done  50 jobs       | elapsed:  4.5min\n",
        "[Parallel(n_jobs=10)]: Done  92 out of 110 | elapsed: 17.4min remaining:  3.4min\n",
        "[Parallel(n_jobs=10)]: Done 110 out of 110 | elapsed: 24.3min finished\n"
       ]
      },
      {
       "output_type": "stream",
       "stream": "stdout",
       "text": [
        "\n"
       ]
      },
      {
       "html": [
        "<p>F-score 0.7400 over 4 categories using lsi-120M-w1-50.</p><p>F-score 0.5719 over 20 categories using lsi-120M-w1-50.</p>"
       ],
       "metadata": {},
       "output_type": "pyout",
       "prompt_number": 20,
       "text": [
        "<IPython.core.display.HTML at 0x26664048>"
       ]
      }
     ],
     "prompt_number": 20
    },
    {
     "cell_type": "markdown",
     "metadata": {},
     "source": [
      "| Order | # classes | 12M | 120M |\n",
      "|:-:|:-:|:-:|:-:|\n",
      "| w1 | 4 | 0.7190 | 0.7400 |\n",
      "| 3-5 | 4 | 0.7491 | 0.7491 |\n",
      "| 4-5 | 4 | 0.7424 | 0.7435 |\n",
      "| 3-6 | 4 | 0.7331 | |\n",
      "| w1 | 20 | 0.5518 | 0.5719|\n",
      "| 3-5 | 20 | 0.6179 | 0.6131 |\n",
      "| 4-5 | 20 | 0.6132 | 0.6031 |\n",
      "| 3-6 | 20 | 0.5810 | |"
     ]
    },
    {
     "cell_type": "markdown",
     "metadata": {},
     "source": [
      "| System | F1 score |\n",
      "|:-:|:-:|\n",
      "| Word 2000 | 0.5773 |\n",
      "| Word 5000 | 0.6508 |\n",
      "| Word LSI 120M | 0.5719 |\n",
      "| 3-5 2000 | 0.5078 |\n",
      "| 3-5 5000 | 0.5715 |\n",
      "| 3-5 LSI 12M | 0.6179 |\n"
     ]
    },
    {
     "cell_type": "code",
     "collapsed": false,
     "input": [],
     "language": "python",
     "metadata": {},
     "outputs": []
    }
   ],
   "metadata": {}
  }
 ]
}